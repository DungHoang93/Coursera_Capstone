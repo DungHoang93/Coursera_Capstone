This is a notebook for the Capston project

import pandas as pd
import numpy as np

print("Hello Capstone Project Course!")
