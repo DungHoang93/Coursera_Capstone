{
 "cells": [
  {
   "cell_type": "markdown",
   "metadata": {},
   "source": [
    "# Building a Coffee/Tea Shop in Toronto, Canada"
   ]
  },
  {
   "cell_type": "markdown",
   "metadata": {},
   "source": [
    "## 1. Introduction"
   ]
  },
  {
   "cell_type": "markdown",
   "metadata": {},
   "source": [
    "## 1.1 Background"
   ]
  },
  {
   "cell_type": "markdown",
   "metadata": {},
   "source": [
    "You cannot go wrong with starting a tea shop in a public place. Tea is like everyone’s favorite breakfast because most people barely have time to eat breakfast at home before setting out for work. A tea shop is also a preferred place for people who want to hang out during lunch or hold brief meetings."
   ]
  },
  {
   "cell_type": "markdown",
   "metadata": {},
   "source": [
    "Toronto is the provincial capital of Ontario and the most populous city in Canada, with a population of 2,954,024 as of July 2018.\n",
    "Toronto is an international centre of business, finance, arts, and culture, and is recognized as one of the most multicultural and cosmopolitan cities in the world. The economy of Toronto is the largest contributor to the Canadian economy, at 20% of national GDP, and an important economic hub of the world. Toronto is a commercial, distribution, financial and industrial centre. It is the banking and stock exchange centre of Canada, and is the country's primary wholesale and distribution point."
   ]
  },
  {
   "cell_type": "markdown",
   "metadata": {},
   "source": [
    "Canadians are a coffee-loving people. According to a recent study reported by telegraph, among twenty countries in the world that drink more coffee per capita, Canada is placed at number 10, overcoming the US  in 26th, and the UK that turns up at number 45.\n",
    "![alt](https://dbon8wsz1nyjy.cloudfront.net/wp-content/uploads/2019/02/The-canadian-coffee-consumption_v3-600x1500.png)\n"
   ]
  },
  {
   "cell_type": "markdown",
   "metadata": {},
   "source": [
    "## 1.2 Problem"
   ]
  },
  {
   "cell_type": "markdown",
   "metadata": {},
   "source": [
    "Finding data about the area and postcode in Toronto is a challenge that must be resolved. The price of renting a place to determine the exact location of a coffee shop is also one of the problems that must be resolved.\n",
    "\n"
   ]
  },
  {
   "cell_type": "markdown",
   "metadata": {},
   "source": [
    "# 2. Data Acquisition and Cleaning\n",
    "The data acquired for this project is a combination of data from two sources. The first data source of data is scraped from a wikipedia page that contains complete [List of Toronto districts](https://en.wikipedia.org/wiki/List_of_neighbourhoods_in_Toronto)\n",
    "The Second data source is the list of Logitude & Latitude from website longlat.net"
   ]
  },
  {
   "cell_type": "markdown",
   "metadata": {},
   "source": [
    "Location data are used to list venues that lies within the radius in the neighborhood. After listing all the venues, we explore all the venues by Venues Data to gather ratings and of tips from every shop. We also list the top 10 venues that exist in each neighborhood. Finally, those neighborhood will be clustered using **K-Means Clustering**, to group similar neighborhoods with positive score in each aspect."
   ]
  },
  {
   "cell_type": "code",
   "execution_count": null,
   "metadata": {},
   "outputs": [],
   "source": []
  }
 ],
 "metadata": {
  "kernelspec": {
   "display_name": "Python 3",
   "language": "python",
   "name": "python3"
  },
  "language_info": {
   "codemirror_mode": {
    "name": "ipython",
    "version": 3
   },
   "file_extension": ".py",
   "mimetype": "text/x-python",
   "name": "python",
   "nbconvert_exporter": "python",
   "pygments_lexer": "ipython3",
   "version": "3.7.4"
  }
 },
 "nbformat": 4,
 "nbformat_minor": 2
}
